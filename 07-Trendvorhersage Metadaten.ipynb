{
 "cells": [
  {
   "cell_type": "markdown",
   "metadata": {},
   "source": [
    "# Trendvorhersage Metadaten\n",
    "\n",
    "Die Vorhersage von Trends ist aus unterschiedlichen Gründen sehr interessant und wird schon seit sehr langer Zeit analysiert. \n",
    "\n",
    "Dafür kommen sowohl statistische Methoden als auch (modernere) Methoden des Maschinellen Lernens in Frage. Du wirst dir in diesem Teil beides anschauen und sowohl Trends in den Metadaten als auch in den Textbeiträgen selbst analysieren.\n",
    "\n",
    "Zuerst betrachtest du Trends in Metadaten."
   ]
  },
  {
   "cell_type": "markdown",
   "metadata": {},
   "source": [
    "## Nutzung für die Reddit-Daten"
   ]
  },
  {
   "cell_type": "markdown",
   "metadata": {},
   "source": [
    "Im Technology-Subreddit bzw. in dem daraus abgeleiteten Transport-Bereich gibt es verschiedene Metriken, die du betrachten kannst. Lade zuerst wie gewohnt die Daten in einen `DataFrame`."
   ]
  },
  {
   "cell_type": "code",
   "execution_count": null,
   "metadata": {},
   "outputs": [],
   "source": [
    "import pandas as pd\n",
    "\n",
    "posts = pd.read_csv(\"transport-all-comments.csv.gz\", parse_dates=[\"created_utc\"])\n",
    "\n",
    "# damit du leichter addieren kannst\n",
    "posts[\"count\"] = 1"
   ]
  },
  {
   "cell_type": "markdown",
   "metadata": {},
   "source": [
    "Um die Posts pro Tag auszurechnen, summierst du das einfach auf:"
   ]
  },
  {
   "cell_type": "code",
   "execution_count": null,
   "metadata": {},
   "outputs": [],
   "source": [
    "posts_day = posts.set_index(\"created_utc\").resample(\"D\").agg({\"count\": \"sum\"})\n",
    "posts_day"
   ]
  },
  {
   "cell_type": "markdown",
   "metadata": {},
   "source": [
    "Schau dir die dazugehörige Grafik an:"
   ]
  },
  {
   "cell_type": "code",
   "execution_count": null,
   "metadata": {},
   "outputs": [],
   "source": [
    "posts_day[\"count\"].plot.line()"
   ]
  },
  {
   "cell_type": "markdown",
   "metadata": {},
   "source": [
    "Hier zeigt sich schon eine interessante Herausforderung: die Daten *fluktuieren*. Vermutlich ist der Grund eine Schwankung über die unterschiedlichen Wochentage. Das wirst du später noch genauer untersuchen, fürs Erste möchtest du die Anzahl der Posts auf Monatsbasis aggregrieren. Zum Glück geht das mit `pandas` ganz einfach:"
   ]
  },
  {
   "cell_type": "code",
   "execution_count": null,
   "metadata": {},
   "outputs": [],
   "source": [
    "posts_month = posts.set_index(\"created_utc\").resample(\"ME\").agg({\"count\": \"sum\"})\n",
    "posts_month[\"count\"].plot()"
   ]
  },
  {
   "cell_type": "markdown",
   "metadata": {},
   "source": [
    "Die Wahl der richtigen Datengranularität hat ganz erheblichen Einfluss auf die Trendvorhersage! Du hast die Daten nun stark geglättet und kannst langfristige Trends gut vorhersagen, die Unterschiede in den Wochentagen hast du damit aber *verwischt*. Sog. *Saisonalitäten* in den Jahreszeiten wären hingegen noch enthalten.\n",
    "\n",
    "Versuche nun, hierfür die lineare Regression auszurechnen:"
   ]
  },
  {
   "cell_type": "code",
   "execution_count": null,
   "metadata": {},
   "outputs": [],
   "source": [
    "from scipy.stats import linregress\n",
    "lr = linregress(range(len(posts_month)), posts_month[\"count\"].values)\n",
    "lr"
   ]
  },
  {
   "cell_type": "markdown",
   "metadata": {},
   "source": [
    "Zeichne die Daten ein, am besten geht das direkt als Vorhersage im `DataFrame`:"
   ]
  },
  {
   "cell_type": "code",
   "execution_count": null,
   "metadata": {},
   "outputs": [],
   "source": [
    "import numpy as np\n",
    "posts_month[\"count_trend\"] = lr.intercept + lr.slope*np.arange(len(posts_month))\n",
    "posts_month[[\"count\", \"count_trend\"]].plot.line()"
   ]
  },
  {
   "cell_type": "markdown",
   "metadata": {},
   "source": [
    "Das Ergebnis ist als Langzeittrend interpretierbar. Allerdings könnte der Anstieg auf auch die enorm große Postmenge Mitte 2022 zurückzuführen sein.\n",
    "\n",
    "Für solch komplexe Szenarien gibt es noch bessere Verfahren. Damit kann man z.B. auch Perioden etc. vorhersagen."
   ]
  },
  {
   "cell_type": "markdown",
   "metadata": {},
   "source": [
    "## Vorhersage mit Machine Learning"
   ]
  },
  {
   "cell_type": "markdown",
   "metadata": {},
   "source": [
    "Du kannst auch kompliziertere Techniken des Maschinellen Lernens zur Trendvorhersage nutzen. Häufig wird dazu ein sog. [LSTM](https://de.wikipedia.org/wiki/Long_short-term_memory) verwendet, allerdings ist das ziemlich kompliziert und erfordert auch lange Rechenzeiten. Es muss auch einfacher gehen!"
   ]
  },
  {
   "cell_type": "markdown",
   "metadata": {},
   "source": [
    "## Vorhersage mit `prophet`"
   ]
  },
  {
   "cell_type": "markdown",
   "metadata": {},
   "source": [
    "[`prophet`](https://facebook.github.io/prophet/) ist ein Softwarepaket von Facebook, das auf die Trendvorhersage spezialisiert ist. Es ist sehr einfach bedienbar und nutzt fortgeschrittene Methoden zur Vorhersage.\n",
    "\n",
    "`prophet` produziert zwar nicht immer die besten Resultate, aber man muss sich schon sehr anstrengen und ganz spezielle Software verwenden, um es im Einzelfall zu schlagen.\n",
    "\n",
    "Deswegen betrachtest du nun `prophet` genauer und wendest es auf unterschiedliche Szenarien an."
   ]
  },
  {
   "cell_type": "code",
   "execution_count": null,
   "metadata": {},
   "outputs": [],
   "source": [
    "from prophet import Prophet"
   ]
  },
  {
   "cell_type": "markdown",
   "metadata": {},
   "source": [
    "`prophet` erfordert einen `DataFrame`, der aus den beiden Spalten `ds` und `y` besteht:"
   ]
  },
  {
   "cell_type": "code",
   "execution_count": null,
   "metadata": {},
   "outputs": [],
   "source": [
    "df = pd.DataFrame({\"ds\": posts_month.index.values, \n",
    "                   \"y\": posts_month[\"count\"].values})\n",
    "df"
   ]
  },
  {
   "cell_type": "markdown",
   "metadata": {},
   "source": [
    "Zuerst muss du ein `Prophet`-Objekt instanziieren, um anschließend die `fit()`-Methode aufrufen zu können."
   ]
  },
  {
   "cell_type": "code",
   "execution_count": null,
   "metadata": {},
   "outputs": [],
   "source": [
    "m = Prophet()\n",
    "m.fit(df)"
   ]
  },
  {
   "cell_type": "markdown",
   "metadata": {},
   "source": [
    "Anschließend kannst du einen neuen `DataFrame` erzeugen, der die Zeitpunkte für die Vorhersage enthält. Du möchtest die Vorhersage auf Monatsbasis durchführen:"
   ]
  },
  {
   "cell_type": "code",
   "execution_count": null,
   "metadata": {},
   "outputs": [],
   "source": [
    "future = m.make_future_dataframe(periods=24, freq='ME')\n",
    "future"
   ]
  },
  {
   "cell_type": "markdown",
   "metadata": {},
   "source": [
    "... und schließlich auch berechnen:"
   ]
  },
  {
   "cell_type": "code",
   "execution_count": null,
   "metadata": {},
   "outputs": [],
   "source": [
    "forecast = m.predict(future)\n",
    "forecast[['ds', 'yhat', 'yhat_lower', 'yhat_upper']].tail()"
   ]
  },
  {
   "cell_type": "markdown",
   "metadata": {},
   "source": [
    "Eine Stärke von `prophet` sind auch die integrierten Funktionen zur Visualisierung:"
   ]
  },
  {
   "cell_type": "code",
   "execution_count": null,
   "metadata": {},
   "outputs": [],
   "source": [
    "fig1 = m.plot(forecast)"
   ]
  },
  {
   "cell_type": "markdown",
   "metadata": {},
   "source": [
    "Das Ergebnis sieht schon sehr gut aus, viele Punkte befinden sich innerhalb des *Konfidenzkorridors*. Die Ausrutscher hat `prophet` als solche behandelt und ignoriert.\n",
    "\n",
    "Spannend sind auch die Komponenten der Vorhersage, die nur den Trend und die Saisonalität darstellen:"
   ]
  },
  {
   "cell_type": "code",
   "execution_count": null,
   "metadata": {
    "scrolled": false
   },
   "outputs": [],
   "source": [
    "fig2 = m.plot_components(forecast)"
   ]
  },
  {
   "cell_type": "markdown",
   "metadata": {},
   "source": [
    "## Unterschiedliche Wochentage "
   ]
  },
  {
   "cell_type": "markdown",
   "metadata": {},
   "source": [
    "Nun kannst du dich fragen, ob die Verteilung der Posts über die Wochentage auch unterschiedlich ist. Dazu musst du zurückgehen auf die noch nicht aggregierten Daten. Der Rest ist fast identisch zu dem oberen Verfahren:"
   ]
  },
  {
   "cell_type": "code",
   "execution_count": null,
   "metadata": {},
   "outputs": [],
   "source": [
    "df = pd.DataFrame({\"ds\": posts_day.index, \"y\": posts_day[\"count\"]})"
   ]
  },
  {
   "cell_type": "code",
   "execution_count": null,
   "metadata": {},
   "outputs": [],
   "source": [
    "m = Prophet(daily_seasonality=True)\n",
    "m.fit(df)"
   ]
  },
  {
   "cell_type": "markdown",
   "metadata": {},
   "source": [
    "*fast*... Hier wird der Future-`DataFrame` auf Tagesbasis erzeugt für zwei Jahre (Schaltjahr!) in die Zukunft:"
   ]
  },
  {
   "cell_type": "code",
   "execution_count": null,
   "metadata": {},
   "outputs": [],
   "source": [
    "future = m.make_future_dataframe(periods=731, freq='D')\n",
    "future"
   ]
  },
  {
   "cell_type": "code",
   "execution_count": null,
   "metadata": {},
   "outputs": [],
   "source": [
    "forecast = m.predict(future)\n",
    "forecast[['ds', 'yhat', 'yhat_lower', 'yhat_upper']].tail()"
   ]
  },
  {
   "cell_type": "code",
   "execution_count": null,
   "metadata": {},
   "outputs": [],
   "source": [
    "fig1 = m.plot(forecast)"
   ]
  },
  {
   "cell_type": "markdown",
   "metadata": {},
   "source": [
    "Das *Geflimmere* wird schon ziemlich gut abgebildet.\n",
    "\n",
    "Betrachte nun die Komponenten:"
   ]
  },
  {
   "cell_type": "code",
   "execution_count": null,
   "metadata": {
    "scrolled": false
   },
   "outputs": [],
   "source": [
    "fig2 = m.plot_components(forecast)"
   ]
  },
  {
   "cell_type": "markdown",
   "metadata": {},
   "source": [
    "Offenbar wird der Transport-Flair des  Technology-Reddit im Juni mehr verwendet als im Dezember. Samstag und Sonntag sind Tage mit ziemlich geringer Nutzung."
   ]
  }
 ],
 "metadata": {
  "kernelspec": {
   "display_name": "Python 3 (ipykernel)",
   "language": "python",
   "name": "python3"
  },
  "language_info": {
   "codemirror_mode": {
    "name": "ipython",
    "version": 3
   },
   "file_extension": ".py",
   "mimetype": "text/x-python",
   "name": "python",
   "nbconvert_exporter": "python",
   "pygments_lexer": "ipython3",
   "version": "3.10.12"
  },
  "toc": {
   "base_numbering": 1,
   "nav_menu": {},
   "number_sections": false,
   "sideBar": true,
   "skip_h1_title": false,
   "title_cell": "Table of Contents",
   "title_sidebar": "Contents",
   "toc_cell": false,
   "toc_position": {},
   "toc_section_display": true,
   "toc_window_display": false
  }
 },
 "nbformat": 4,
 "nbformat_minor": 4
}
