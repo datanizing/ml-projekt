{
 "cells": [
  {
   "cell_type": "markdown",
   "metadata": {},
   "source": [
    "# Statistische Analyse"
   ]
  },
  {
   "cell_type": "markdown",
   "metadata": {},
   "source": [
    "Die Daten des Transport-Flairs kannst du als in Form eines CSV-Files nutzen, dabei handelt es sich immer noch um eine beträchtliche Datenmenge.\n",
    "\n",
    "Zunächst lädst du die Daten ein:"
   ]
  },
  {
   "cell_type": "code",
   "execution_count": null,
   "metadata": {},
   "outputs": [],
   "source": [
    "import pandas as pd"
   ]
  },
  {
   "cell_type": "code",
   "execution_count": null,
   "metadata": {},
   "outputs": [],
   "source": [
    "posts = pd.read_csv(\"transport-all-comments.csv.gz\", parse_dates=[\"created_utc\"])"
   ]
  },
  {
   "cell_type": "markdown",
   "metadata": {},
   "source": [
    "Die Tabelle selbst ist sehr einfach aufgebaut:\n",
    "\n",
    "|Feld|Typ|\n",
    "|---|---\n",
    "|id|text|\n",
    "|url|text|\n",
    "|text|text|\n",
    "|parent_id|text|\n",
    "|score|integer|\n",
    "|author|text|\n",
    "|created_utc|timestamp|"
   ]
  },
  {
   "cell_type": "code",
   "execution_count": null,
   "metadata": {},
   "outputs": [],
   "source": [
    "posts.dtypes"
   ]
  },
  {
   "cell_type": "markdown",
   "metadata": {},
   "source": [
    "Bei User Generated Content oder auch anderen Textdaten ist es häufig sinnvoll, die Analyse in zwei unterschiedlichen Domänen durchzuführen.\n",
    "\n",
    "Du betrachtest zunächst die strukturierten Daten (die *Metadaten*), um zu überprüfen, ob die statistisch signifikant und valide sind.\n",
    "\n",
    "Anschließend konzentrierst du dich (im nächsten Notebook) auf die unstrukturierten Daten, also die Texte selbst. Dort versuchst du herauszufinden, ob die für uns relevanten Themen abgedeckt werden."
   ]
  },
  {
   "cell_type": "markdown",
   "metadata": {},
   "source": [
    "## Gesamtstatistik"
   ]
  },
  {
   "cell_type": "markdown",
   "metadata": {},
   "source": [
    "Du startest mit der Berechnung einiger Größen, die du später immer wieder benötigen wirst. Diese sind noch nicht zeitabhängig, sondern sollen dir nur einen Eindruck von der Größe der Datenmenge verschaffen.\n",
    "\n",
    "Als erstes interessiert dich die Gesamtanzahl der Posts:"
   ]
  },
  {
   "cell_type": "code",
   "execution_count": null,
   "metadata": {},
   "outputs": [],
   "source": [
    "len(posts)"
   ]
  },
  {
   "cell_type": "markdown",
   "metadata": {},
   "source": [
    "Das ist eine sehr große Anzahl von Posts, darin enthalten sind allerdings sowohl Initial-Posts als auch Kommentare auf Posts. \n",
    "\n",
    "Wenn du nur die Toplevel- oder Initial-Posts betrachten willst, so ist das leicht möglich, weil bei diesen keine `parent_id` gesetzt ist:"
   ]
  },
  {
   "cell_type": "code",
   "execution_count": null,
   "metadata": {},
   "outputs": [],
   "source": [
    "top = posts[posts[\"parent_id\"].isna()]\n",
    "len(top)"
   ]
  },
  {
   "cell_type": "markdown",
   "metadata": {},
   "source": [
    "Auch diese Anzahl ist absolut groß genug, um daraus statistisch signifikante Aussagen ableiten zu können.\n",
    "\n",
    "Oftmals haben Foren oder UGC-Sites das Problem, dass die Inhalte zwar in großer Menge zur Verfügung stehen, aber nur von wenigen Autoren geschaffen werden:"
   ]
  },
  {
   "cell_type": "code",
   "execution_count": null,
   "metadata": {},
   "outputs": [],
   "source": [
    "posts[\"author\"].nunique()"
   ]
  },
  {
   "cell_type": "markdown",
   "metadata": {},
   "source": [
    "Auch hier herrscht eine große Vielfalt, was uns in der Analyse sehr hilft. Betrachte außerdem noch die Anazhl der Autoren, die die Toplevel-Posts erstellt haben:"
   ]
  },
  {
   "cell_type": "code",
   "execution_count": null,
   "metadata": {},
   "outputs": [],
   "source": [
    "top[\"author\"].nunique()"
   ]
  },
  {
   "cell_type": "markdown",
   "metadata": {},
   "source": [
    "Im Verhältnis zu der Anzahl der Toplevel-Posts sind das ziemlich viele Autoren, so dass sich auch hier ein breites Meinungsbild ergibt.\n",
    "\n",
    "Schau dir zuletzt noch die Namen der Autoren an, die auf dem Toplevel am meisten geschrieben haben:"
   ]
  },
  {
   "cell_type": "code",
   "execution_count": null,
   "metadata": {},
   "outputs": [],
   "source": [
    "top.groupby(\"author\").count()[\"id\"].sort_values(ascending=False).head(20)"
   ]
  },
  {
   "cell_type": "markdown",
   "metadata": {},
   "source": [
    "Wenn du die Kommentare mit berücksichtigst, sieht es etwas anders aus:"
   ]
  },
  {
   "cell_type": "code",
   "execution_count": null,
   "metadata": {},
   "outputs": [],
   "source": [
    "posts.groupby(\"author\").count()[\"id\"].sort_values(ascending=False).head(20)"
   ]
  },
  {
   "cell_type": "markdown",
   "metadata": {},
   "source": [
    "Interessant! Es scheint eine klare Differenzierung zwischen Autoren zu geben, die Initialposts schreiben und solchen, die hauptsächlich kommentieren.\n",
    "\n",
    "So oder so kannst du hier erkennen, dass es sehr aktive Autoren gibt. Das ist aber ein übliches Verhältnis bei sozialen Netzwerken, das Phänomen nennt sich [Ein-Prozent-Regel](https://de.wikipedia.org/wiki/Ein-Prozent-Regel_(Internet)).\n",
    "\n",
    "Bis hierher sieht also alles gut aus, die Grundwerte der Datenmenge passen!"
   ]
  },
  {
   "cell_type": "markdown",
   "metadata": {},
   "source": [
    "## Zeitentwicklung von Posts und Kommentaren"
   ]
  },
  {
   "cell_type": "markdown",
   "metadata": {},
   "source": [
    "Ausgehend von der Business-Fragestellung möchtest du versuchen, Trends abzuleiten und vergangene Trends zu verstehen. Das geht allerdings nur, wenn die Daten hinlänglich aktuell sind. Dewegen analysierst du zunächst den zeitlichen Verlauf der Posts.\n",
    "\n",
    "Dazu verdichtest du die Daten gleich nach Monaten, eine genauere Analyse ist für den langen Zeitraum nicht sinnvoll:"
   ]
  },
  {
   "cell_type": "code",
   "execution_count": null,
   "metadata": {},
   "outputs": [],
   "source": [
    "posts.set_index(\"created_utc\").resample(\"ME\").count()[\"id\"].plot(title=\"Gesamtposts pro Monat\")"
   ]
  },
  {
   "cell_type": "markdown",
   "metadata": {},
   "source": [
    "Die Grafik wirkt etwas *unruhig*, weil sich von Monat zu Monat doch größere Änderungen ergeben. Das können wir glätten, indem wir die Posts auf Quartale verdichten. `pandas` bietet uns dazu leistungsfähige Funktionen:"
   ]
  },
  {
   "cell_type": "code",
   "execution_count": null,
   "metadata": {},
   "outputs": [],
   "source": [
    "posts.set_index(\"created_utc\").resample(\"QE\").count()[\"id\"].plot(title=\"Gesamtposts pro Quartal\")"
   ]
  },
  {
   "cell_type": "markdown",
   "metadata": {},
   "source": [
    "Das sieht deutlich übersichtlicher aus. Es ist außerdem ein positiver Trend zu beobachten, was dich zuversichtlich stimmen sollte, dass du statistisch valide Daten analysierst.\n",
    "\n",
    "Aber Vorsicht, bei den Toplevel-Posts sieht es etwas anders aus:"
   ]
  },
  {
   "cell_type": "code",
   "execution_count": null,
   "metadata": {},
   "outputs": [],
   "source": [
    "top.set_index(\"created_utc\").resample('QE').count()[\"id\"].plot(title=\"Toplevel-Posts pro Quartal\")"
   ]
  },
  {
   "cell_type": "markdown",
   "metadata": {},
   "source": [
    "Die Musik spielt hier also in den Kommentaren - sehr spannend und bereits eine wichtige Erkenntnis, die nur aus der Statisitk kommt!"
   ]
  },
  {
   "cell_type": "markdown",
   "metadata": {},
   "source": [
    "## Statistik über Autoren"
   ]
  },
  {
   "cell_type": "markdown",
   "metadata": {},
   "source": [
    "Neben den Posts selbst spielen die Autoren eine große Rolle. Wie haben die sich über die Zeit entwickelt? So wäre es etwa ungünstig, wenn es immer weniger Autoren gibt. Auch hier kann dir die Datenbank viel Rechenarbeit abnehmen:"
   ]
  },
  {
   "cell_type": "markdown",
   "metadata": {},
   "source": [
    "Der Übersichtlichkeit halber aggregierst du das gleich wieder für Quartale:"
   ]
  },
  {
   "cell_type": "code",
   "execution_count": null,
   "metadata": {},
   "outputs": [],
   "source": [
    "time_author = posts.set_index(\"created_utc\").resample(\"QE\").agg({\"author\": pd.Series.nunique })"
   ]
  },
  {
   "cell_type": "code",
   "execution_count": null,
   "metadata": {},
   "outputs": [],
   "source": [
    "time_author.plot(title=\"Autoren pro Quartal\")"
   ]
  },
  {
   "cell_type": "markdown",
   "metadata": {},
   "source": [
    "Das ist sehr interessant! Offenbar hat die Anzahl der Autoren (inkl. Kommentaren) mit der Zeit ebenso zugenommen, besonders seit 2021. \n",
    "\n",
    "Betrachte nun das Posting-Verhalten der Autoren noch etwas genauer und berechne dazu eine Tabelle, in der für jeden Autor die Anzahl der Posts steht:"
   ]
  },
  {
   "cell_type": "code",
   "execution_count": null,
   "metadata": {},
   "outputs": [],
   "source": [
    "cpa = posts.groupby(\"author\").count()[[\"id\"]]"
   ]
  },
  {
   "cell_type": "markdown",
   "metadata": {},
   "source": [
    "Die Posts der gelöschten Accounts interessiert dich nicht (weil sich dahinter vermutlich Einzelposts vieler unterschiedlicher Autoren verbergen). Auch den `AutoModerator` lässt du für die Analyse weg und erzeugst damit einen kleineren `DataFrame`:"
   ]
  },
  {
   "cell_type": "code",
   "execution_count": null,
   "metadata": {},
   "outputs": [],
   "source": [
    "cpa = cpa[~cpa.index.isin([\"[deleted]\", \"AutoModerator\"])]"
   ]
  },
  {
   "cell_type": "markdown",
   "metadata": {},
   "source": [
    "Mithilfe der `describe`-Funktion können wir uns statistische Informationen zu der Anzahl der Posts pro Autor ausgeben lassen:"
   ]
  },
  {
   "cell_type": "code",
   "execution_count": null,
   "metadata": {},
   "outputs": [],
   "source": [
    "cpa.describe()"
   ]
  },
  {
   "cell_type": "markdown",
   "metadata": {},
   "source": [
    "Tatsächlich hat ein einzelner Autor fast 2.600 Posts verfasst. Die große Mehrzahl der Autoren (mehr als die Hälfte) hat hingegen nur einmal gepostet.\n",
    "\n",
    "Das kannst du dir gut in einem Histogramm darstellen lassen. Aufgrund der sehr ungleichen Verteilung wählst du eine logarithmische Darstellung:"
   ]
  },
  {
   "cell_type": "code",
   "execution_count": null,
   "metadata": {},
   "outputs": [],
   "source": [
    "cpa.plot.hist(bins=80, logy=True)"
   ]
  },
  {
   "cell_type": "markdown",
   "metadata": {},
   "source": [
    "Auch wenn die Verteilung etwas merkwürdig aussieht, passt das gut! Es gibt nur vier Autoren, die mehr als 1.000 Posts geschrieben haben. Das spricht für eine gut *balancierte* Community."
   ]
  },
  {
   "cell_type": "markdown",
   "metadata": {},
   "source": [
    "## Korrelationsanalyse\n",
    "\n",
    "In Reddit können sog. *Scores* vergeben werden. Dahinter verbirgt sich die Differenz von Up- und Downvotes (die einzeln nicht mehr sichtbar sind). Du kannst nun die Hypothese aufstellen, dass Toplevel-Posts mit einem hohen Score auch viele (On-Topic-) Kommentare auf sich ziehen.\n",
    "\n",
    "Zunächst bestimmst du die Anzahl der Kommentare pro Parent, indem du nach `parent_id` gruppierst:"
   ]
  },
  {
   "cell_type": "code",
   "execution_count": null,
   "metadata": {},
   "outputs": [],
   "source": [
    "cc = posts[[\"id\", \"parent_id\"]].groupby(\"parent_id\").count().rename(columns={\"id\": \"comment_count\"})"
   ]
  },
  {
   "cell_type": "markdown",
   "metadata": {},
   "source": [
    "Nun verbindest du die beiden `DataFrame`s miteinander. Achtung, in dieser Version werden nur die Kommentare auf der ersten Ebene berücksichtigt!"
   ]
  },
  {
   "cell_type": "code",
   "execution_count": null,
   "metadata": {},
   "outputs": [],
   "source": [
    "comments_and_score = top.merge(cc, left_on=\"id\", right_index=True, how=\"left\").\\\n",
    "                         fillna({\"comment_count\": 0})\n",
    "comments_and_score.plot.scatter(x=\"score\", y=\"comment_count\")"
   ]
  },
  {
   "cell_type": "markdown",
   "metadata": {},
   "source": [
    "Das sieht nach einem schwachen Zusammenhang aus. Wenn du das quantifizieren willst, führst du  eine Regressionsanalyse durch:"
   ]
  },
  {
   "cell_type": "code",
   "execution_count": null,
   "metadata": {},
   "outputs": [],
   "source": [
    "import scipy.stats\n",
    "r = scipy.stats.linregress(comments_and_score[\"score\"], comments_and_score[\"comment_count\"])\n",
    "r"
   ]
  },
  {
   "cell_type": "markdown",
   "metadata": {},
   "source": [
    "Der *Pearson R*-Wert ist 1, wenn Werte total korreliert sind, -1 bei einer Antikorrelation und 0 bei unkorrelierten Werten. Auch hier kann man die Korrelation gut erkennen. `p` ist das sog. Signifikanzniveau und hier sehr klein, was für die Güte der Analyse spricht.\n",
    "\n",
    "Nachdem der Score in etwa den Likes in anderen sozialen Netzwerken entspricht, hast du hier den bekannten Zusammenhang zwischen Likes und Comments nachgewiesen."
   ]
  }
 ],
 "metadata": {
  "kernelspec": {
   "display_name": "Python 3 (ipykernel)",
   "language": "python",
   "name": "python3"
  },
  "language_info": {
   "codemirror_mode": {
    "name": "ipython",
    "version": 3
   },
   "file_extension": ".py",
   "mimetype": "text/x-python",
   "name": "python",
   "nbconvert_exporter": "python",
   "pygments_lexer": "ipython3",
   "version": "3.10.12"
  },
  "toc": {
   "base_numbering": 1,
   "nav_menu": {},
   "number_sections": false,
   "sideBar": true,
   "skip_h1_title": false,
   "title_cell": "Table of Contents",
   "title_sidebar": "Contents",
   "toc_cell": false,
   "toc_position": {},
   "toc_section_display": true,
   "toc_window_display": false
  },
  "varInspector": {
   "cols": {
    "lenName": 16,
    "lenType": 16,
    "lenVar": 40
   },
   "kernels_config": {
    "python": {
     "delete_cmd_postfix": "",
     "delete_cmd_prefix": "del ",
     "library": "var_list.py",
     "varRefreshCmd": "print(var_dic_list())"
    },
    "r": {
     "delete_cmd_postfix": ") ",
     "delete_cmd_prefix": "rm(",
     "library": "var_list.r",
     "varRefreshCmd": "cat(var_dic_list()) "
    }
   },
   "types_to_exclude": [
    "module",
    "function",
    "builtin_function_or_method",
    "instance",
    "_Feature"
   ],
   "window_display": false
  }
 },
 "nbformat": 4,
 "nbformat_minor": 4
}
